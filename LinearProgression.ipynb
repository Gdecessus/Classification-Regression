{
 "cells": [
  {
   "cell_type": "markdown",
   "id": "1f2078f2-b468-4b0f-b2dc-a5411bd20d0a",
   "metadata": {},
   "source": [
    "# Linear Regression for Moscow Housing Prices\r\n",
    "\r\n",
    "## Objective\r\n",
    "In this notebook, I aim to implement and evaluate a **Linear Regression model** to predict house prices using the Moscow housing dataset. The notebook will involve data preprocessing, exploratory data analysis, and model training/testing.\r\n",
    "\r\n",
    "## Importing Necessary Libraries\r\n",
    "The following libraries are imported for various tasks:\r\n",
    "- **numpy** and **pandas**: For data manipulation and numerical computations.\r\n",
    "- **matplotlib** and **seaborn**: For visualizing data and insights through plots.\r\n",
    "- **sklearn.preprocessing**: To preprocess the data, including scaling and encoding.\r\n",
    "- **sklearn.model_selection**: For splitting the data into training and testing sets.\r\n",
    "- **sklearn.metrics**: To evaluate model performance using error metrics like Mean Squared Error (MSE) and Mean Absolute Error (MAE).\r\n",
    "- **sklearn.linear_model**: To use the `LinearRegression` model from scikit-learn.\r\n",
    "\r\n",
    "## Loading and Exploring the Dataset\r\n",
    "The dataset is loaded from a CSV file (`data.csv`) into a DataFrame (`cal_df`):\r\n",
    "- **`cal_df.describe()`**: Provides summary statistics of the dataset.\r\n",
    "- **`cal_df.isnull().sum()`**: Identifies missing values in the dataset.\r\n",
    "\r\n",
    "In the following steps, I will preprocess the data, explore its structure, and build a Linear Regression model to prdict house prices.\r\n"
   ]
  },
  {
   "cell_type": "code",
   "execution_count": 54,
   "id": "df8e773f-3a7e-4595-aa5e-b891166336e8",
   "metadata": {},
   "outputs": [
    {
     "name": "stdout",
     "output_type": "stream",
     "text": [
      "Updated dataset statistics (Price in Euros):\n",
      "              Price  Minutes to metro  Number of rooms      Area  Living area  \\\n",
      "count     22,676.00         22,676.00        22,676.00 22,676.00    22,676.00   \n",
      "mean     433,455.86             11.89             2.04     71.97        38.52   \n",
      "std      993,907.37              6.20             1.52     68.37        38.12   \n",
      "min       13,800.00              0.00             0.00      6.00         2.00   \n",
      "25%       84,817.39              7.00             1.00     37.40        17.60   \n",
      "50%      136,118.40             11.00             2.00     53.30        28.50   \n",
      "75%      297,590.97             15.00             3.00     77.14        43.20   \n",
      "max   29,460,240.00             60.00            12.00  1,117.00       566.80   \n",
      "\n",
      "       Kitchen area     Floor  Number of floors  \n",
      "count     22,676.00 22,676.00         22,676.00  \n",
      "mean          12.59      9.19             16.56  \n",
      "std            7.73      7.55              9.78  \n",
      "min            1.00      1.00              1.00  \n",
      "25%            8.60      4.00             11.00  \n",
      "50%           10.60      8.00             16.00  \n",
      "75%           14.50     13.00             20.00  \n",
      "max          122.00     92.00             97.00  \n"
     ]
    },
    {
     "data": {
      "text/plain": [
       "Price               0\n",
       "Apartment type      0\n",
       "Metro station       0\n",
       "Minutes to metro    0\n",
       "Region              0\n",
       "Number of rooms     0\n",
       "Area                0\n",
       "Living area         0\n",
       "Kitchen area        0\n",
       "Floor               0\n",
       "Number of floors    0\n",
       "Renovation          0\n",
       "dtype: int64"
      ]
     },
     "execution_count": 54,
     "metadata": {},
     "output_type": "execute_result"
    }
   ],
   "source": [
    "import numpy as np\n",
    "import pandas as pd\n",
    "import matplotlib.pyplot as plt\n",
    "from sklearn.preprocessing import StandardScaler\n",
    "from sklearn.model_selection import train_test_split\n",
    "from sklearn import linear_model\n",
    "from sklearn.metrics import mean_squared_error\n",
    "from sklearn.metrics import mean_absolute_error\n",
    "from sklearn.preprocessing import LabelEncoder\n",
    "import seaborn as sns\n",
    "import matplotlib.pyplot as plt\n",
    "\n",
    "cal_df = pd.read_csv(\"data.csv\")\n",
    "\n",
    "# Apply currency conversion(russian rubles to euro) and change from scientific notation to better visual interpretation\n",
    "conversion_rate = 0.012  \n",
    "cal_df['Price'] = cal_df['Price'] * conversion_rate\n",
    "pd.options.display.float_format = '{:,.2f}'.format\n",
    "\n",
    "\n",
    "print(\"Updated dataset statistics (Price in Euros):\")\n",
    "print(cal_df.describe())\n",
    "cal_df.isnull().sum()"
   ]
  },
  {
   "cell_type": "markdown",
   "id": "8e220b8b-2091-4b70-a615-7f3e3f4c7aa5",
   "metadata": {},
   "source": [
    "### Encoding Categorical Variables\n",
    "To make the categorical variables usable by the Linear Regression model, we applied **Label Encoding** to the following columns:\n",
    "- **`Apartment type`**\n",
    "- **`Renovation`**\n",
    "- **`Metro station`**\n",
    "- **`Region`**\n",
    "\n",
    "Label Encoding converts each category in these columns into a unique integer. For example:\n",
    "- `Apartment type`: [\"Studio\", \"1-bedroom\", \"2-bedroom\"] → [0, 1, 2]\n",
    "\n",
    "After encoding, these columns are now numeric and suitable for use in the regression model. We verified the changes using `cal_df.info()` to ensure the data types are updated."
   ]
  },
  {
   "cell_type": "code",
   "execution_count": 4,
   "id": "8b989a20-bf66-41c6-83ee-75ef406c9305",
   "metadata": {},
   "outputs": [
    {
     "name": "stdout",
     "output_type": "stream",
     "text": [
      "<class 'pandas.core.frame.DataFrame'>\n",
      "RangeIndex: 22676 entries, 0 to 22675\n",
      "Data columns (total 12 columns):\n",
      " #   Column            Non-Null Count  Dtype  \n",
      "---  ------            --------------  -----  \n",
      " 0   Price             22676 non-null  float64\n",
      " 1   Apartment type    22676 non-null  int32  \n",
      " 2   Metro station     22676 non-null  int32  \n",
      " 3   Minutes to metro  22676 non-null  float64\n",
      " 4   Region            22676 non-null  int32  \n",
      " 5   Number of rooms   22676 non-null  float64\n",
      " 6   Area              22676 non-null  float64\n",
      " 7   Living area       22676 non-null  float64\n",
      " 8   Kitchen area      22676 non-null  float64\n",
      " 9   Floor             22676 non-null  float64\n",
      " 10  Number of floors  22676 non-null  int64  \n",
      " 11  Renovation        22676 non-null  int32  \n",
      "dtypes: float64(7), int32(4), int64(1)\n",
      "memory usage: 1.7 MB\n",
      "None\n"
     ]
    }
   ],
   "source": [
    "LE = LabelEncoder()\n",
    "cal_df['Apartment type'] = LE.fit_transform(cal_df['Apartment type'])\n",
    "cal_df['Renovation'] = LE.fit_transform(cal_df['Renovation'])\n",
    "cal_df['Metro station'] = LE.fit_transform(cal_df['Metro station'])\n",
    "cal_df['Region'] = LE.fit_transform(cal_df['Region'])\n",
    "\n",
    "print(cal_df.info())"
   ]
  },
  {
   "cell_type": "code",
   "execution_count": 5,
   "id": "3bac12c3-4fa1-4a93-9252-3e3fe8d15b58",
   "metadata": {},
   "outputs": [
    {
     "name": "stdout",
     "output_type": "stream",
     "text": [
      "Price               float64\n",
      "Apartment type        int32\n",
      "Metro station         int32\n",
      "Minutes to metro    float64\n",
      "Region                int32\n",
      "Number of rooms     float64\n",
      "Area                float64\n",
      "Living area         float64\n",
      "Kitchen area        float64\n",
      "Floor               float64\n",
      "Number of floors      int64\n",
      "Renovation            int32\n",
      "dtype: object\n"
     ]
    }
   ],
   "source": [
    "print(cal_df.dtypes)"
   ]
  },
  {
   "cell_type": "markdown",
   "id": "841e5f36-3f19-4e43-9030-d21a62b43c60",
   "metadata": {},
   "source": [
    "### Standardizing Data\n",
    "To ensure all features are on the same scale, we applied **Standardization** to the dataset using `StandardScaler`.\n",
    "This process transforms each feature so that:\n",
    "- The **mean** is 0.\n",
    "- The **standard deviation** is 1.\n",
    "\n",
    "Steps:\n",
    "1. Extracted column names from the dataset to retain them after scaling.\n",
    "2. Used `StandardScaler` to scale all numerical columns in the DataFrame.\n",
    "3. Converted the scaled data back into a DataFrame with the original column names for clarity."
   ]
  },
  {
   "cell_type": "code",
   "execution_count": 7,
   "id": "99b1cbf0-c46e-46e8-8dfa-29c1c00d9eb3",
   "metadata": {},
   "outputs": [
    {
     "data": {
      "text/html": [
       "<div>\n",
       "<style scoped>\n",
       "    .dataframe tbody tr th:only-of-type {\n",
       "        vertical-align: middle;\n",
       "    }\n",
       "\n",
       "    .dataframe tbody tr th {\n",
       "        vertical-align: top;\n",
       "    }\n",
       "\n",
       "    .dataframe thead th {\n",
       "        text-align: right;\n",
       "    }\n",
       "</style>\n",
       "<table border=\"1\" class=\"dataframe\">\n",
       "  <thead>\n",
       "    <tr style=\"text-align: right;\">\n",
       "      <th></th>\n",
       "      <th>Price</th>\n",
       "      <th>Apartment type</th>\n",
       "      <th>Metro station</th>\n",
       "      <th>Minutes to metro</th>\n",
       "      <th>Region</th>\n",
       "      <th>Number of rooms</th>\n",
       "      <th>Area</th>\n",
       "      <th>Living area</th>\n",
       "      <th>Kitchen area</th>\n",
       "      <th>Floor</th>\n",
       "      <th>Number of floors</th>\n",
       "      <th>Renovation</th>\n",
       "    </tr>\n",
       "  </thead>\n",
       "  <tbody>\n",
       "    <tr>\n",
       "      <th>0</th>\n",
       "      <td>-0.360057</td>\n",
       "      <td>0.850969</td>\n",
       "      <td>-1.530310</td>\n",
       "      <td>-0.949114</td>\n",
       "      <td>1.566885</td>\n",
       "      <td>-0.684669</td>\n",
       "      <td>-0.605069</td>\n",
       "      <td>-0.719189</td>\n",
       "      <td>-0.529779</td>\n",
       "      <td>2.094025</td>\n",
       "      <td>0.863466</td>\n",
       "      <td>-0.779064</td>\n",
       "    </tr>\n",
       "    <tr>\n",
       "      <th>1</th>\n",
       "      <td>-0.327458</td>\n",
       "      <td>0.850969</td>\n",
       "      <td>-1.470797</td>\n",
       "      <td>-1.593826</td>\n",
       "      <td>1.566885</td>\n",
       "      <td>-0.684669</td>\n",
       "      <td>-0.333009</td>\n",
       "      <td>-0.485737</td>\n",
       "      <td>-0.335677</td>\n",
       "      <td>-0.422588</td>\n",
       "      <td>-0.159125</td>\n",
       "      <td>0.991970</td>\n",
       "    </tr>\n",
       "    <tr>\n",
       "      <th>2</th>\n",
       "      <td>-0.302224</td>\n",
       "      <td>0.850969</td>\n",
       "      <td>-1.742855</td>\n",
       "      <td>0.340311</td>\n",
       "      <td>1.566885</td>\n",
       "      <td>-0.684669</td>\n",
       "      <td>-0.398830</td>\n",
       "      <td>-0.585413</td>\n",
       "      <td>0.065466</td>\n",
       "      <td>0.107226</td>\n",
       "      <td>0.863466</td>\n",
       "      <td>-0.779064</td>\n",
       "    </tr>\n",
       "    <tr>\n",
       "      <th>3</th>\n",
       "      <td>-0.335910</td>\n",
       "      <td>0.850969</td>\n",
       "      <td>-1.003196</td>\n",
       "      <td>-0.626758</td>\n",
       "      <td>1.566885</td>\n",
       "      <td>-0.684669</td>\n",
       "      <td>-0.539248</td>\n",
       "      <td>-0.590659</td>\n",
       "      <td>-0.206276</td>\n",
       "      <td>0.372132</td>\n",
       "      <td>1.681539</td>\n",
       "      <td>0.991970</td>\n",
       "    </tr>\n",
       "    <tr>\n",
       "      <th>4</th>\n",
       "      <td>-0.358246</td>\n",
       "      <td>0.850969</td>\n",
       "      <td>-1.530310</td>\n",
       "      <td>-0.949114</td>\n",
       "      <td>1.566885</td>\n",
       "      <td>-0.684669</td>\n",
       "      <td>-0.501218</td>\n",
       "      <td>-0.611644</td>\n",
       "      <td>-1.112084</td>\n",
       "      <td>-0.555041</td>\n",
       "      <td>-1.181716</td>\n",
       "      <td>1.877487</td>\n",
       "    </tr>\n",
       "  </tbody>\n",
       "</table>\n",
       "</div>"
      ],
      "text/plain": [
       "      Price  Apartment type  Metro station  Minutes to metro    Region  \\\n",
       "0 -0.360057        0.850969      -1.530310         -0.949114  1.566885   \n",
       "1 -0.327458        0.850969      -1.470797         -1.593826  1.566885   \n",
       "2 -0.302224        0.850969      -1.742855          0.340311  1.566885   \n",
       "3 -0.335910        0.850969      -1.003196         -0.626758  1.566885   \n",
       "4 -0.358246        0.850969      -1.530310         -0.949114  1.566885   \n",
       "\n",
       "   Number of rooms      Area  Living area  Kitchen area     Floor  \\\n",
       "0        -0.684669 -0.605069    -0.719189     -0.529779  2.094025   \n",
       "1        -0.684669 -0.333009    -0.485737     -0.335677 -0.422588   \n",
       "2        -0.684669 -0.398830    -0.585413      0.065466  0.107226   \n",
       "3        -0.684669 -0.539248    -0.590659     -0.206276  0.372132   \n",
       "4        -0.684669 -0.501218    -0.611644     -1.112084 -0.555041   \n",
       "\n",
       "   Number of floors  Renovation  \n",
       "0          0.863466   -0.779064  \n",
       "1         -0.159125    0.991970  \n",
       "2          0.863466   -0.779064  \n",
       "3          1.681539    0.991970  \n",
       "4         -1.181716    1.877487  "
      ]
     },
     "execution_count": 7,
     "metadata": {},
     "output_type": "execute_result"
    }
   ],
   "source": [
    "names = cal_df.columns\n",
    "scaler = StandardScaler()\n",
    "scaled_df = scaler.fit_transform(cal_df)\n",
    "scaled_df = pd.DataFrame(scaled_df, columns=names)\n",
    "scaled_df.head()"
   ]
  },
  {
   "cell_type": "code",
   "execution_count": 8,
   "id": "68c14ea5-3513-4d5f-a64d-e8bc647d068a",
   "metadata": {},
   "outputs": [
    {
     "data": {
      "text/html": [
       "<div>\n",
       "<style scoped>\n",
       "    .dataframe tbody tr th:only-of-type {\n",
       "        vertical-align: middle;\n",
       "    }\n",
       "\n",
       "    .dataframe tbody tr th {\n",
       "        vertical-align: top;\n",
       "    }\n",
       "\n",
       "    .dataframe thead th {\n",
       "        text-align: right;\n",
       "    }\n",
       "</style>\n",
       "<table border=\"1\" class=\"dataframe\">\n",
       "  <thead>\n",
       "    <tr style=\"text-align: right;\">\n",
       "      <th></th>\n",
       "      <th>Price</th>\n",
       "      <th>Apartment type</th>\n",
       "      <th>Metro station</th>\n",
       "      <th>Minutes to metro</th>\n",
       "      <th>Region</th>\n",
       "      <th>Number of rooms</th>\n",
       "      <th>Area</th>\n",
       "      <th>Living area</th>\n",
       "      <th>Kitchen area</th>\n",
       "      <th>Floor</th>\n",
       "      <th>Number of floors</th>\n",
       "      <th>Renovation</th>\n",
       "    </tr>\n",
       "  </thead>\n",
       "  <tbody>\n",
       "    <tr>\n",
       "      <th>22671</th>\n",
       "      <td>-0.378545</td>\n",
       "      <td>-1.175131</td>\n",
       "      <td>0.238072</td>\n",
       "      <td>-0.626758</td>\n",
       "      <td>1.566885</td>\n",
       "      <td>-1.341030</td>\n",
       "      <td>-0.588248</td>\n",
       "      <td>-0.669351</td>\n",
       "      <td>-0.982683</td>\n",
       "      <td>-0.687494</td>\n",
       "      <td>0.045393</td>\n",
       "      <td>-0.779064</td>\n",
       "    </tr>\n",
       "    <tr>\n",
       "      <th>22672</th>\n",
       "      <td>-0.364887</td>\n",
       "      <td>-1.175131</td>\n",
       "      <td>0.025527</td>\n",
       "      <td>2.113269</td>\n",
       "      <td>1.566885</td>\n",
       "      <td>-0.684669</td>\n",
       "      <td>-0.590442</td>\n",
       "      <td>-0.745419</td>\n",
       "      <td>-0.050995</td>\n",
       "      <td>0.239679</td>\n",
       "      <td>-0.159125</td>\n",
       "      <td>-0.779064</td>\n",
       "    </tr>\n",
       "    <tr>\n",
       "      <th>22673</th>\n",
       "      <td>-0.391449</td>\n",
       "      <td>-1.175131</td>\n",
       "      <td>0.238072</td>\n",
       "      <td>2.919159</td>\n",
       "      <td>1.566885</td>\n",
       "      <td>-1.341030</td>\n",
       "      <td>-0.789368</td>\n",
       "      <td>-0.616890</td>\n",
       "      <td>-0.581540</td>\n",
       "      <td>1.034399</td>\n",
       "      <td>0.045393</td>\n",
       "      <td>-0.779064</td>\n",
       "    </tr>\n",
       "    <tr>\n",
       "      <th>22674</th>\n",
       "      <td>-0.366470</td>\n",
       "      <td>-1.175131</td>\n",
       "      <td>0.051032</td>\n",
       "      <td>0.340311</td>\n",
       "      <td>1.566885</td>\n",
       "      <td>-0.028308</td>\n",
       "      <td>-0.520379</td>\n",
       "      <td>-0.433276</td>\n",
       "      <td>-0.775641</td>\n",
       "      <td>0.372132</td>\n",
       "      <td>-0.261384</td>\n",
       "      <td>-0.779064</td>\n",
       "    </tr>\n",
       "    <tr>\n",
       "      <th>22675</th>\n",
       "      <td>-0.353548</td>\n",
       "      <td>-1.175131</td>\n",
       "      <td>0.238072</td>\n",
       "      <td>-0.626758</td>\n",
       "      <td>1.566885</td>\n",
       "      <td>-0.028308</td>\n",
       "      <td>-0.231644</td>\n",
       "      <td>-0.170970</td>\n",
       "      <td>-0.982683</td>\n",
       "      <td>0.107226</td>\n",
       "      <td>0.045393</td>\n",
       "      <td>-0.779064</td>\n",
       "    </tr>\n",
       "  </tbody>\n",
       "</table>\n",
       "</div>"
      ],
      "text/plain": [
       "          Price  Apartment type  Metro station  Minutes to metro    Region  \\\n",
       "22671 -0.378545       -1.175131       0.238072         -0.626758  1.566885   \n",
       "22672 -0.364887       -1.175131       0.025527          2.113269  1.566885   \n",
       "22673 -0.391449       -1.175131       0.238072          2.919159  1.566885   \n",
       "22674 -0.366470       -1.175131       0.051032          0.340311  1.566885   \n",
       "22675 -0.353548       -1.175131       0.238072         -0.626758  1.566885   \n",
       "\n",
       "       Number of rooms      Area  Living area  Kitchen area     Floor  \\\n",
       "22671        -1.341030 -0.588248    -0.669351     -0.982683 -0.687494   \n",
       "22672        -0.684669 -0.590442    -0.745419     -0.050995  0.239679   \n",
       "22673        -1.341030 -0.789368    -0.616890     -0.581540  1.034399   \n",
       "22674        -0.028308 -0.520379    -0.433276     -0.775641  0.372132   \n",
       "22675        -0.028308 -0.231644    -0.170970     -0.982683  0.107226   \n",
       "\n",
       "       Number of floors  Renovation  \n",
       "22671          0.045393   -0.779064  \n",
       "22672         -0.159125   -0.779064  \n",
       "22673          0.045393   -0.779064  \n",
       "22674         -0.261384   -0.779064  \n",
       "22675          0.045393   -0.779064  "
      ]
     },
     "execution_count": 8,
     "metadata": {},
     "output_type": "execute_result"
    }
   ],
   "source": [
    "names = cal_df.columns\n",
    "scaler = StandardScaler()\n",
    "scaled_df = scaler.fit_transform(cal_df)\n",
    "scaled_df = pd.DataFrame(scaled_df, columns=names)\n",
    "scaled_df.tail()"
   ]
  },
  {
   "cell_type": "markdown",
   "id": "885eb388-c1ab-4450-8176-f4ac8969a13f",
   "metadata": {},
   "source": [
    "### Data Visualization\r\n",
    "- **Boxplots**: Generated boxplots for each column in the standardized dataset to identify outliers and understand feature distributions.\r\n",
    "- **Histograms**:\r\n",
    "  - Plotted the distribution of the target variable (`Price`) before and after standardization to compare changes in lsce.\r\n"
   ]
  },
  {
   "cell_type": "code",
   "execution_count": 10,
   "id": "f4745955-90c5-49bc-b6db-4d182c41e806",
   "metadata": {},
   "outputs": [
    {
     "data": {
      "image/png": "[encoded data removed]",
      "text/plain": [
       "<Figure size 640x480 with 1 Axes>"
      ]
     },
     "metadata": {},
     "output_type": "display_data"
    },
    {
     "data": {
      "image/png": "[encoded data removed]",
      "text/plain": [
       "<Figure size 640x480 with 1 Axes>"
      ]
     },
     "metadata": {},
     "output_type": "display_data"
    },
    {
     "data": {
      "image/png": "[encoded data removed]",
      "text/plain": [
       "<Figure size 640x480 with 1 Axes>"
      ]
     },
     "metadata": {},
     "output_type": "display_data"
    },
    {
     "data": {
      "image/png": "[encoded data removed]",
      "text/plain": [
       "<Figure size 640x480 with 1 Axes>"
      ]
     },
     "metadata": {},
     "output_type": "display_data"
    },
    {
     "data": {
      "image/png": "[encoded data removed]",
      "text/plain": [
       "<Figure size 640x480 with 1 Axes>"
      ]
     },
     "metadata": {},
     "output_type": "display_data"
    },
    {
     "data": {
      "image/png": "[encoded data removed]",
      "text/plain": [
       "<Figure size 640x480 with 1 Axes>"
      ]
     },
     "metadata": {},
     "output_type": "display_data"
    },
    {
     "data": {
      "image/png": "[encoded data removed]",
      "text/plain": [
       "<Figure size 640x480 with 1 Axes>"
      ]
     },
     "metadata": {},
     "output_type": "display_data"
    },
    {
     "data": {
      "image/png": "[encoded data removed]",
      "text/plain": [
       "<Figure size 640x480 with 1 Axes>"
      ]
     },
     "metadata": {},
     "output_type": "display_data"
    },
    {
     "data": {
      "image/png": "[encoded data removed]",
      "text/plain": [
       "<Figure size 640x480 with 1 Axes>"
      ]
     },
     "metadata": {},
     "output_type": "display_data"
    },
    {
     "data": {
      "image/png": "[encoded data removed]",
      "text/plain": [
       "<Figure size 640x480 with 1 Axes>"
      ]
     },
     "metadata": {},
     "output_type": "display_data"
    },
    {
     "data": {
      "image/png": "[encoded data removed]",
      "text/plain": [
       "<Figure size 640x480 with 1 Axes>"
      ]
     },
     "metadata": {},
     "output_type": "display_data"
    },
    {
     "data": {
      "image/png": "[encoded data removed]",
      "text/plain": [
       "<Figure size 640x480 with 1 Axes>"
      ]
     },
     "metadata": {},
     "output_type": "display_data"
    }
   ],
   "source": [
    "for column in scaled_df:\n",
    "    plt.figure()\n",
    "    sns.boxplot(x=scaled_df[column])"
   ]
  },
  {
   "cell_type": "code",
   "execution_count": 11,
   "id": "cdb1329f-e400-4cca-a5a7-1e90726fe1dd",
   "metadata": {},
   "outputs": [
    {
     "data": {
      "text/plain": [
       "<Axes: >"
      ]
     },
     "execution_count": 11,
     "metadata": {},
     "output_type": "execute_result"
    },
    {
     "data": {
      "image/png": "[encoded data removed]",
      "text/plain": [
       "<Figure size 640x480 with 1 Axes>"
      ]
     },
     "metadata": {},
     "output_type": "display_data"
    }
   ],
   "source": [
    "scaled_df['Price'].hist()"
   ]
  },
  {
   "cell_type": "code",
   "execution_count": 12,
   "id": "c39d1d6d-fef5-4e54-994a-4c2ac818b2e3",
   "metadata": {},
   "outputs": [
    {
     "data": {
      "text/plain": [
       "<Axes: >"
      ]
     },
     "execution_count": 12,
     "metadata": {},
     "output_type": "execute_result"
    },
    {
     "data": {
      "image/png": "[encoded data removed]",
      "text/plain": [
       "<Figure size 640x480 with 1 Axes>"
      ]
     },
     "metadata": {},
     "output_type": "display_data"
    }
   ],
   "source": [
    "cal_df['Price'].hist()"
   ]
  },
  {
   "cell_type": "markdown",
   "id": "3c641d6e-14ef-4bf6-9d14-bf1dde1b4400",
   "metadata": {},
   "source": [
    "### Splitting Features and Target\n",
    "- **Features (`X`)**: Extracted all columns except `Price` as predictors.\n",
    "  - Verified using `X.info()` and checked the shape with `X.shape`.\n",
    "- **Target (`y`)**: Selected the `Price` column as the target variable.\n",
    "  - Used `y.describe()` to view summary statistics and `y.shape` to confirm its size."
   ]
  },
  {
   "cell_type": "code",
   "execution_count": 14,
   "id": "52d97884-f892-4986-88d4-ae1b8aa1116f",
   "metadata": {},
   "outputs": [
    {
     "name": "stdout",
     "output_type": "stream",
     "text": [
      "<class 'pandas.core.frame.DataFrame'>\n",
      "RangeIndex: 22676 entries, 0 to 22675\n",
      "Data columns (total 11 columns):\n",
      " #   Column            Non-Null Count  Dtype  \n",
      "---  ------            --------------  -----  \n",
      " 0   Apartment type    22676 non-null  float64\n",
      " 1   Metro station     22676 non-null  float64\n",
      " 2   Minutes to metro  22676 non-null  float64\n",
      " 3   Region            22676 non-null  float64\n",
      " 4   Number of rooms   22676 non-null  float64\n",
      " 5   Area              22676 non-null  float64\n",
      " 6   Living area       22676 non-null  float64\n",
      " 7   Kitchen area      22676 non-null  float64\n",
      " 8   Floor             22676 non-null  float64\n",
      " 9   Number of floors  22676 non-null  float64\n",
      " 10  Renovation        22676 non-null  float64\n",
      "dtypes: float64(11)\n",
      "memory usage: 1.9 MB\n",
      "None\n",
      "(22676, 11)\n"
     ]
    }
   ],
   "source": [
    "X = scaled_df.drop('Price', axis = 1)\n",
    "print (X.info())\n",
    "print (X.shape)"
   ]
  },
  {
   "cell_type": "code",
   "execution_count": 15,
   "id": "015c9ce1-b9fc-49b0-a517-690aa00573c4",
   "metadata": {},
   "outputs": [
    {
     "name": "stdout",
     "output_type": "stream",
     "text": [
      "count    22676.000000\n",
      "mean         0.000000\n",
      "std          1.000022\n",
      "min         -0.422238\n",
      "25%         -0.350783\n",
      "50%         -0.299167\n",
      "75%         -0.136701\n",
      "max         29.205362\n",
      "Name: Price, dtype: float64\n",
      "(22676,)\n"
     ]
    }
   ],
   "source": [
    "y = scaled_df['Price']\n",
    "\n",
    "print (y.describe())\n",
    "print (y.shape)"
   ]
  },
  {
   "cell_type": "code",
   "execution_count": 16,
   "id": "28fca095-d8da-497a-a4b2-84d03fd743d4",
   "metadata": {},
   "outputs": [
    {
     "name": "stdout",
     "output_type": "stream",
     "text": [
      "(18140, 11)\n",
      "(18140,)\n",
      "(4536, 11)\n",
      "(4536,)\n"
     ]
    }
   ],
   "source": [
    "X_train,X_test,Y_train,Y_test = train_test_split(X,y,test_size=0.20, random_state=1)\n",
    "print(X_train.shape)\n",
    "print(Y_train.shape)\n",
    "print(X_test.shape)\n",
    "print(Y_test.shape)"
   ]
  },
  {
   "cell_type": "markdown",
   "id": "bed95a0d-50e1-4d06-a948-40467f3b2fdc",
   "metadata": {},
   "source": [
    "### Linear Regression Model Training and Evaluation\n",
    "- **Model Training**:\n",
    "  - Trained a Linear Regression model using the training data (`X_train` and `Y_train`).\n",
    "\n",
    "- **Model Evaluation**:\n",
    "  - Calculated the following metrics on the test set:\n",
    "    - **R-Squared**: Measures the proportion of variance in the target variable explained by the model.\n",
    "    - **Mean Squared Error (MSE)**: Evaluates the average squared difference between predicted and actual values.\n",
    "    - **Mean Absolute Error (MAE)**: Measures the average absolute difference between predictions and actual values.\n",
    "\n",
    "- **Coefficients**:\n",
    "  - Printed the coefficients (`beta`) for each feature, representing their impact on the target variable (`Price`)."
   ]
  },
  {
   "cell_type": "code",
   "execution_count": 18,
   "id": "d3728f33-0e72-4d38-acd2-45d316ab931f",
   "metadata": {},
   "outputs": [
    {
     "name": "stdout",
     "output_type": "stream",
     "text": [
      "R-Sqaured: 0.644\n",
      "Mean squared error: 0.274\n",
      "Mean absolute error: 0.232\n",
      "The coefficient (beta_0) for Apartment type is 0.10602864471423806\n",
      "The coefficient (beta_1) for Metro station is -0.004194752272126456\n",
      "The coefficient (beta_2) for Minutes to metro is -0.04254091017842436\n",
      "The coefficient (beta_3) for Region is -0.006007951051752558\n",
      "The coefficient (beta_4) for Number of rooms is -0.12306054410404957\n",
      "The coefficient (beta_5) for Area is 0.8963354512461471\n",
      "The coefficient (beta_6) for Living area is -0.03269025034358004\n",
      "The coefficient (beta_7) for Kitchen area is 0.006241192689653782\n",
      "The coefficient (beta_8) for Floor is -0.002754450663587907\n",
      "The coefficient (beta_9) for Number of floors is -0.05841274159074279\n",
      "The coefficient (beta_10) for Renovation is -0.036288073986962974\n"
     ]
    }
   ],
   "source": [
    "model = linear_model.LinearRegression()\n",
    "model.fit(X_train, Y_train)\n",
    "print(\"R-Sqaured: %.3f\"\n",
    "      % model.score(X_test,Y_test))\n",
    "\n",
    "Y_pred = model.predict(X_test) \n",
    "print(\"Mean squared error: %.3f\"\n",
    "      % mean_squared_error(Y_test, Y_pred)) \n",
    "\n",
    "print(\"Mean absolute error: %.3f\"\n",
    "      % mean_absolute_error(Y_test, Y_pred))\n",
    "\n",
    "\n",
    "for i, col_name in enumerate(X_train.columns):\n",
    "    print(\"The coefficient (beta_{}) for {} is {}\".format(i, col_name, model.coef_[i]))"
   ]
  },
  {
   "cell_type": "markdown",
   "id": "a8198be4-4a4d-4b49-a956-a8684c7241c9",
   "metadata": {},
   "source": [
    "### Feature Selection and Simplified Model Training\n",
    "\n",
    "#### Objective:\n",
    "In this section, we aim to simplify the Linear Regression model by selecting the **most informative features** and retraining the model. This process helps to:\n",
    "- Identify the features that contribute the most to predicting the target variable (`Price`).\n",
    "- Reduce the complexity of the model by focusing on key predictors.\n",
    "- Compare the performance of the simplified model against the original model with all features.\n",
    "\n",
    "#### Plan:\n",
    "1. **Feature Selection**:\n",
    "   - Use the coefficients of the initial model to determine the top 4 most important features.\n",
    "   - Create subsets of the dataset containing only these selected features.\n",
    "\n",
    "2. **Model Training and Evaluation**:\n",
    "   - Retrain the Linear Regression model using only the selected features.\n",
    "   - Evaluate the simplified model using R-Squared, Mean Squared Error (MSE), and Mean Absolute Error (MAE).\n",
    "   - Compare the results to the original model to assess the impact of feature selection."
   ]
  },
  {
   "cell_type": "code",
   "execution_count": 20,
   "id": "74528dbc-d461-4510-94a8-a6e79cc7ea85",
   "metadata": {},
   "outputs": [
    {
     "name": "stdout",
     "output_type": "stream",
     "text": [
      "Top 4 features: Index(['Area', 'Number of rooms', 'Apartment type', 'Number of floors'], dtype='object')\n"
     ]
    }
   ],
   "source": [
    "feature_importance = pd.Series(abs(model.coef_), index=X_train.columns)\n",
    "top_features = feature_importance.nlargest(4).index\n",
    "print(\"Top 4 features:\", top_features)"
   ]
  },
  {
   "cell_type": "code",
   "execution_count": 21,
   "id": "e49de2e1-98f9-4057-a8d5-7c67ce2c175b",
   "metadata": {},
   "outputs": [
    {
     "name": "stdout",
     "output_type": "stream",
     "text": [
      "           Area  Number of rooms  Apartment type  Number of floors\n",
      "10779  1.901985         1.940774        0.850969         -1.181716\n",
      "19736 -0.376158        -0.028308       -1.175131          0.352171\n",
      "2785   0.921981        -1.341030        0.850969          2.192834\n",
      "13457 -0.254023        -0.028308       -1.175131         -0.261384\n",
      "10635  1.751327         2.597134        0.850969         -1.181716\n",
      "           Area  Number of rooms  Apartment type  Number of floors\n",
      "6405  -0.116530        -0.028308        0.850969          0.045393\n",
      "11918 -0.833249        -1.341030        0.850969         -1.181716\n",
      "16681 -0.400877        -0.684669       -1.175131         -0.568161\n",
      "14130 -0.315895        -0.028308       -1.175131         -0.261384\n",
      "9009   0.154068         0.628052        0.850969         -1.181716\n"
     ]
    }
   ],
   "source": [
    "top_features = ['Area', 'Number of rooms', 'Apartment type', 'Number of floors']\n",
    "X_train_selected = X_train[top_features]\n",
    "X_test_selected = X_test[top_features]\n",
    "print(X_train_selected.head())\n",
    "print(X_test_selected.head())"
   ]
  },
  {
   "cell_type": "code",
   "execution_count": 22,
   "id": "1556a03d-74ba-42eb-8a82-b309977d46d8",
   "metadata": {},
   "outputs": [
    {
     "name": "stdout",
     "output_type": "stream",
     "text": [
      "R-Squared (selected features): 0.641\n",
      "Mean squared error (selected features): 0.276\n",
      "Mean absolute error (selected features): 0.230\n"
     ]
    }
   ],
   "source": [
    "model.fit(X_train_selected, Y_train)\n",
    "\n",
    "print(\"R-Squared (selected features): %.3f\" % model.score(X_test_selected, Y_test))\n",
    "Y_pred_selected = model.predict(X_test_selected)\n",
    "\n",
    "print(\"Mean squared error (selected features): %.3f\" % mean_squared_error(Y_test, Y_pred_selected))\n",
    "print(\"Mean absolute error (selected features): %.3f\" % mean_absolute_error(Y_test, Y_pred_selected))"
   ]
  },
  {
   "cell_type": "markdown",
   "id": "d6058113-549f-4f41-90a1-7a618ad78d58",
   "metadata": {},
   "source": [
    "### Comparing Model Performance\r\n",
    "\r\n",
    "| **Metric**           | **All Features** | **Selected Features** |\r\n",
    "|-----------------------|------------------|------------------------|\r\n",
    "| **R-Squared**         | 0.644            | 0.641                 |\r\n",
    "| **Mean Squared Error**| 0.274            | 0.276                 |\r\n",
    "| **Mean Absolute Error**| 0.232           | 0.230                 |\r\n",
    "\r\n",
    "#### What This Means:\r\n",
    "- The **R-Squared** value dropped a little (0.644 to 0.641), so the new model explains slightly less of the price variation.\r\n",
    "- The **MSE** went up a tiny bit, meaning the predictions got slightly worse.\r\n",
    "- The **MAE** got a little better, which means the model’s average prediction error is smaller now.\r\n",
    "\r\n",
    "#### Final Thoughts:\r\n",
    "Using just 4 features (Area, Number of rooms, Apartment type, Number of floors) still gives pretty good results compared to using all the features. The simpler model works almost as well and is easier o understand.\r\n"
   ]
  },
  {
   "cell_type": "code",
   "execution_count": null,
   "id": "a9d6903a-2da9-418e-9ba9-a43ec5ae29bf",
   "metadata": {},
   "outputs": [],
   "source": []
  }
 ],
 "metadata": {
  "kernelspec": {
   "display_name": "Python 3 (ipykernel)",
   "language": "python",
   "name": "python3"
  },
  "language_info": {
   "codemirror_mode": {
    "name": "ipython",
    "version": 3
   },
   "file_extension": ".py",
   "mimetype": "text/x-python",
   "name": "python",
   "nbconvert_exporter": "python",
   "pygments_lexer": "ipython3",
   "version": "3.12.4"
  }
 },
 "nbformat": 4,
 "nbformat_minor": 5
}
